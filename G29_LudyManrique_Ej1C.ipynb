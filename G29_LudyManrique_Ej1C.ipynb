{
  "nbformat": 4,
  "nbformat_minor": 0,
  "metadata": {
    "colab": {
      "name": "G29_LudyManrique_Ej1C.ipynb",
      "provenance": [],
      "collapsed_sections": []
    },
    "kernelspec": {
      "name": "python3",
      "display_name": "Python 3"
    },
    "language_info": {
      "name": "python"
    }
  },
  "cells": [
    {
      "cell_type": "code",
      "source": [
        "Nombres = ['Ana','Maria'] \n",
        "Tipos = ['Extrovertida', 'Rebelde'] \n",
        "Edades = [26, 29] \n",
        "Trabajo = ['Deportista', 'Barista']\n",
        "x=list(zip(Nombres,Tipos,Edades,Trabajo))\n",
        "diccionario={}\n",
        "for i in range(len(Nombres)):\t\n",
        "\tdiccionario[str(i+1)]=x[i]\n",
        "print(diccionario)\n",
        "print(diccionario['1'])"
      ],
      "metadata": {
        "colab": {
          "base_uri": "https://localhost:8080/"
        },
        "id": "DI7NeOwDbkGh",
        "outputId": "81b4d582-e8f1-43c9-c2be-7ee4f3c67041"
      },
      "execution_count": null,
      "outputs": [
        {
          "output_type": "stream",
          "name": "stdout",
          "text": [
            "{'1': ('Ana', 'Extrovertida', 26, 'Deportista'), '2': ('Maria', 'Rebelde', 29, 'Barista')}\n",
            "('Ana', 'Extrovertida', 26, 'Deportista')\n"
          ]
        }
      ]
    },
    {
      "cell_type": "markdown",
      "source": [
        "#SERIES:\n",
        "\n",
        "> Es la estructura más simple que proporciona Pandas, y se asemeja a una columna en una hoja de cálculo de Excel. Un objeto Series tiene dos componentes principales: un índice y un vector de datos.\n",
        "\n"
      ],
      "metadata": {
        "id": "pe_rT3VPhaPf"
      }
    },
    {
      "cell_type": "code",
      "source": [
        "import numpy as np\n",
        "import pandas as pd"
      ],
      "metadata": {
        "id": "o2-_UTrhjQcg"
      },
      "execution_count": null,
      "outputs": []
    },
    {
      "cell_type": "code",
      "source": [
        "texto = ['a','b','c']\n",
        "datos = [10,20,30]\n",
        "arr = np.array(datos)\n",
        "a=dict(zip(texto,datos))#es igual a hacer -->  d = {'a':10, 'b':20, 'c':30}\n",
        "print(a)"
      ],
      "metadata": {
        "colab": {
          "base_uri": "https://localhost:8080/"
        },
        "id": "cNrUufI3a9cv",
        "outputId": "066bdcdd-01a7-47c2-df91-b09eda71635e"
      },
      "execution_count": null,
      "outputs": [
        {
          "output_type": "stream",
          "name": "stdout",
          "text": [
            "{'a': 10, 'b': 20, 'c': 30}\n"
          ]
        }
      ]
    },
    {
      "cell_type": "code",
      "source": [
        "x=pd.Series(index = texto, data = datos) # Creando una serie con array primero los indices y despues los datos\n",
        "print(x)"
      ],
      "metadata": {
        "colab": {
          "base_uri": "https://localhost:8080/"
        },
        "id": "i_c7H788eruQ",
        "outputId": "88bfc157-1993-4f60-fce7-79d2a4c0c9b6"
      },
      "execution_count": null,
      "outputs": [
        {
          "output_type": "stream",
          "name": "stdout",
          "text": [
            "a    10\n",
            "b    20\n",
            "c    30\n",
            "dtype: int64\n"
          ]
        }
      ]
    },
    {
      "cell_type": "code",
      "source": [
        "print(pd.Series(a)) # Creando una serie con un diccionario\n",
        "x=pd.Series(data = texto)\n",
        "print('####')\n",
        "print(x[0])\n",
        "print('####')\n",
        "serie1 = pd.Series([1,2,3,4],['USA', 'GERMANY', 'USSR', 'JAPAN'])\n",
        "print(serie1)\n",
        "print('####')\n",
        "print(serie1['USA'])\n",
        "print('####')\n",
        "serie2 = pd.Series([1,2,3,4],['USA', 'GERMANY', 'ITALY', 'JAPAN'])\n",
        "print(serie2)\n",
        "print('####')\n",
        "print(serie1+serie2)"
      ],
      "metadata": {
        "colab": {
          "base_uri": "https://localhost:8080/"
        },
        "id": "wPIm0U9MfF6P",
        "outputId": "8e9611aa-8d47-4dbe-fa9c-5cffc74397ab"
      },
      "execution_count": null,
      "outputs": [
        {
          "output_type": "stream",
          "name": "stdout",
          "text": [
            "a    10\n",
            "b    20\n",
            "c    30\n",
            "dtype: int64\n",
            "####\n",
            "a\n",
            "####\n",
            "USA        1\n",
            "GERMANY    2\n",
            "USSR       3\n",
            "JAPAN      4\n",
            "dtype: int64\n",
            "####\n",
            "1\n",
            "####\n",
            "USA        1\n",
            "GERMANY    2\n",
            "ITALY      3\n",
            "JAPAN      4\n",
            "dtype: int64\n",
            "####\n",
            "GERMANY    4.0\n",
            "ITALY      NaN\n",
            "JAPAN      8.0\n",
            "USA        2.0\n",
            "USSR       NaN\n",
            "dtype: float64\n"
          ]
        }
      ]
    },
    {
      "cell_type": "code",
      "source": [
        "alimentos=['carne','verduras','bebidas','cereales']\n",
        "cantidades=[125,423,66,201]\n",
        "caja=pd.Series(cantidades, index=alimentos)\n",
        "print(caja)"
      ],
      "metadata": {
        "colab": {
          "base_uri": "https://localhost:8080/"
        },
        "id": "oDZfTaLuhqvN",
        "outputId": "50aad006-179b-4df5-fe40-7eafde29042c"
      },
      "execution_count": null,
      "outputs": [
        {
          "output_type": "stream",
          "name": "stdout",
          "text": [
            "carne       125\n",
            "verduras    423\n",
            "bebidas      66\n",
            "cereales    201\n",
            "dtype: int64\n"
          ]
        }
      ]
    },
    {
      "cell_type": "code",
      "source": [
        "#cuales estan por denajo de 200 para solicitar mercancía\n",
        "for i in caja.index:\n",
        "    if(int(caja[i])<200):\n",
        "        print(f'solicitar {i}, queda solo {caja[i]} unidades')"
      ],
      "metadata": {
        "colab": {
          "base_uri": "https://localhost:8080/"
        },
        "id": "5z8O0fmfjZdm",
        "outputId": "4ebf0aea-5c87-4a39-d19f-1fdb19ed0207"
      },
      "execution_count": null,
      "outputs": [
        {
          "output_type": "stream",
          "name": "stdout",
          "text": [
            "solicitar carne, queda solo 125 unidades\n",
            "solicitar bebidas, queda solo 66 unidades\n"
          ]
        }
      ]
    },
    {
      "cell_type": "code",
      "source": [
        "#si llega mas mercancía nueva\n",
        "alimentos=['carne','verduras','bebidas','cereales']\n",
        "cantidades=[1000,1000,2000,3000]\n",
        "caja_nueva=pd.Series(cantidades, index=alimentos)\n",
        "print(caja_nueva)\n",
        "#sumar cajas\n",
        "for i in caja_nueva.index:\n",
        "  caja[i]=int(caja[i])+int(caja_nueva[i])\n",
        "print(caja)"
      ],
      "metadata": {
        "colab": {
          "base_uri": "https://localhost:8080/"
        },
        "id": "Zp1E6ZvYlBrk",
        "outputId": "839b5777-4196-4cfe-fc04-784b9e61551a"
      },
      "execution_count": null,
      "outputs": [
        {
          "output_type": "stream",
          "name": "stdout",
          "text": [
            "carne       1000\n",
            "verduras    1000\n",
            "bebidas     2000\n",
            "cereales    3000\n",
            "dtype: int64\n",
            "carne       1125\n",
            "verduras    1423\n",
            "bebidas     2066\n",
            "cereales    3201\n",
            "dtype: int64\n"
          ]
        }
      ]
    },
    {
      "cell_type": "markdown",
      "source": [
        "# DATAFRAMES\n",
        "\n",
        "> El DataFrame es la estructura de datos fundamental de Pandas, representa una tabla de datos panel con indexación integrada. Cada columna contiene los valores de una variable y cada fila un conjunto de valores de cada columna.\n",
        "\n"
      ],
      "metadata": {
        "id": "M6oZOKYtmIOZ"
      }
    },
    {
      "cell_type": "code",
      "source": [
        "from numpy.random import randn\n",
        "df = pd.DataFrame(randn(5,4),['A','B','C','D','E'],['W','X','Y','Z'])\n",
        "print(df)\n",
        "print('####')\n",
        "print(df['W'])\n",
        "print('#####')\n",
        "print(df[['W','X']])\n",
        "print('####')\n",
        "df['suma(W+Y)'] = df['W'] + df['Y']#sumar dos columnas\n",
        "print(df)\n",
        "# Truco para recordar\n",
        "# Posiciones 0 y 1\n",
        "# axis = 0 (filas) y axis = 1 (columnas)\n",
        "df.drop('suma(W+Y)', axis = 1,inplace = False) # inplace\n",
        "print(df)\n",
        "df.drop('suma(W+Y)', axis = 1,inplace = True) # inplace\n",
        "print(df)\n",
        "#Muchas operaciones de Pandas tienen un inplace como parámetro, siempre por defecto False, \n",
        "#lo que significa que el DataFrame original no se modifica y la operación devuelve un nuevo DF.\n",
        "#Al configurar inplace = True, la operación podría funcionar en el DF original, pero aún podría \n",
        "#funcionar en una copia detrás de escena, y simplemente reasignar la referencia cuando haya terminado.\n",
        "print(df.drop('E', axis = 0))#quitamos una fila"
      ],
      "metadata": {
        "colab": {
          "base_uri": "https://localhost:8080/"
        },
        "id": "FS4gTMIbmGqQ",
        "outputId": "7672e339-799b-45b8-c9f4-05f7e220fab9"
      },
      "execution_count": null,
      "outputs": [
        {
          "output_type": "stream",
          "name": "stdout",
          "text": [
            "          W         X         Y         Z\n",
            "A -1.409126  0.870907  1.585812  0.929658\n",
            "B -0.550876  0.942045 -0.975349 -1.054851\n",
            "C  2.165421 -1.267240 -0.802843 -0.253479\n",
            "D  0.090699  1.321715  0.794129  1.359712\n",
            "E  0.771970  0.294217 -1.391519  0.147486\n",
            "####\n",
            "A   -1.409126\n",
            "B   -0.550876\n",
            "C    2.165421\n",
            "D    0.090699\n",
            "E    0.771970\n",
            "Name: W, dtype: float64\n",
            "#####\n",
            "          W         X\n",
            "A -1.409126  0.870907\n",
            "B -0.550876  0.942045\n",
            "C  2.165421 -1.267240\n",
            "D  0.090699  1.321715\n",
            "E  0.771970  0.294217\n",
            "####\n",
            "          W         X         Y         Z  suma(W+Y)\n",
            "A -1.409126  0.870907  1.585812  0.929658   0.176687\n",
            "B -0.550876  0.942045 -0.975349 -1.054851  -1.526225\n",
            "C  2.165421 -1.267240 -0.802843 -0.253479   1.362578\n",
            "D  0.090699  1.321715  0.794129  1.359712   0.884827\n",
            "E  0.771970  0.294217 -1.391519  0.147486  -0.619549\n",
            "          W         X         Y         Z  suma(W+Y)\n",
            "A -1.409126  0.870907  1.585812  0.929658   0.176687\n",
            "B -0.550876  0.942045 -0.975349 -1.054851  -1.526225\n",
            "C  2.165421 -1.267240 -0.802843 -0.253479   1.362578\n",
            "D  0.090699  1.321715  0.794129  1.359712   0.884827\n",
            "E  0.771970  0.294217 -1.391519  0.147486  -0.619549\n",
            "          W         X         Y         Z\n",
            "A -1.409126  0.870907  1.585812  0.929658\n",
            "B -0.550876  0.942045 -0.975349 -1.054851\n",
            "C  2.165421 -1.267240 -0.802843 -0.253479\n",
            "D  0.090699  1.321715  0.794129  1.359712\n",
            "E  0.771970  0.294217 -1.391519  0.147486\n",
            "          W         X         Y         Z\n",
            "A -1.409126  0.870907  1.585812  0.929658\n",
            "B -0.550876  0.942045 -0.975349 -1.054851\n",
            "C  2.165421 -1.267240 -0.802843 -0.253479\n",
            "D  0.090699  1.321715  0.794129  1.359712\n"
          ]
        }
      ]
    },
    {
      "cell_type": "code",
      "source": [
        "diccionario={'columna':[1,2,3,4],'columna2':[5,6,7,8]}\n",
        "df=pd.DataFrame(data=diccionario)\n",
        "print(df)"
      ],
      "metadata": {
        "colab": {
          "base_uri": "https://localhost:8080/"
        },
        "id": "gz2J8h67p9aH",
        "outputId": "c2de3245-04b3-4e64-9bea-37e237cb1487"
      },
      "execution_count": null,
      "outputs": [
        {
          "output_type": "stream",
          "name": "stdout",
          "text": [
            "   columna  columna2\n",
            "0        1         5\n",
            "1        2         6\n",
            "2        3         7\n",
            "3        4         8\n"
          ]
        }
      ]
    },
    {
      "cell_type": "code",
      "source": [
        "df=pd.DataFrame(np.array([[1,2,3],[4,5,6], [7,8,9]]), columns=['cantidad','medida','id'])\n",
        "print(df)"
      ],
      "metadata": {
        "colab": {
          "base_uri": "https://localhost:8080/"
        },
        "id": "4vRb-nNjqgLA",
        "outputId": "d066489a-87f6-4b84-d71b-b80902c16c2c"
      },
      "execution_count": null,
      "outputs": [
        {
          "output_type": "stream",
          "name": "stdout",
          "text": [
            "   cantidad  medida  id\n",
            "0         1       2   3\n",
            "1         4       5   6\n",
            "2         7       8   9\n"
          ]
        }
      ]
    },
    {
      "cell_type": "code",
      "source": [
        "#si mezclamos todo\n",
        "alimentos=['carne','verduras','bebidas','cereales']\n",
        "cantidades=[125,423,66,201]\n",
        "medidas=['kg','kg','lt','bulto']\n",
        "Id=[1,2,3,4]\n",
        "x=list(zip(alimentos,cantidades,medidas))\n",
        "print(x)\n",
        "df=pd.DataFrame(data=x,index=Id,columns=['alimento','cantidad','medida'])\n",
        "print(df)\n",
        "print('#####')\n",
        "print(df['alimento'])\n",
        "print(df[['alimento','cantidad']])"
      ],
      "metadata": {
        "colab": {
          "base_uri": "https://localhost:8080/"
        },
        "id": "ctH5A_NBrFM1",
        "outputId": "685fa616-6bdc-4c71-d213-e47cc4c237be"
      },
      "execution_count": null,
      "outputs": [
        {
          "output_type": "stream",
          "name": "stdout",
          "text": [
            "[('carne', 125, 'kg'), ('verduras', 423, 'kg'), ('bebidas', 66, 'lt'), ('cereales', 201, 'bulto')]\n",
            "   alimento  cantidad medida\n",
            "1     carne       125     kg\n",
            "2  verduras       423     kg\n",
            "3   bebidas        66     lt\n",
            "4  cereales       201  bulto\n",
            "#####\n",
            "1       carne\n",
            "2    verduras\n",
            "3     bebidas\n",
            "4    cereales\n",
            "Name: alimento, dtype: object\n",
            "   alimento  cantidad\n",
            "1     carne       125\n",
            "2  verduras       423\n",
            "3   bebidas        66\n",
            "4  cereales       201\n"
          ]
        }
      ]
    },
    {
      "cell_type": "code",
      "source": [
        "#seleccionar columnas\n",
        "print(df.iloc[:,0])\n",
        "''' El método iloc se utiliza en los DataFrames para seleccionar los elementos en base \n",
        "a su ubicación. Su sintaxis es data. iloc[<filas>, <columnas>] , \n",
        "donde <filas> y <columnas> son la posición de las filas y columnas que se desean \n",
        "seleccionar en el orden que aparecen en el objeto.'''\n",
        "print(df.loc[1])\n",
        "''' El método loc se puede usar de dos formas diferentes: seleccionar filas o columnas en base a una etiqueta \n",
        "o seleccionar filas o columnas en base a una condición.'''\n",
        "print(df.loc[:, 'cantidad'] <200)"
      ],
      "metadata": {
        "colab": {
          "base_uri": "https://localhost:8080/"
        },
        "id": "QyHLcEl4thoO",
        "outputId": "dfc2672b-e9fb-432e-b752-dfce08d7995b"
      },
      "execution_count": null,
      "outputs": [
        {
          "output_type": "stream",
          "name": "stdout",
          "text": [
            "1       carne\n",
            "2    verduras\n",
            "3     bebidas\n",
            "4    cereales\n",
            "Name: alimento, dtype: object\n",
            "alimento    carne\n",
            "cantidad      125\n",
            "medida         kg\n",
            "Name: 1, dtype: object\n",
            "1     True\n",
            "2    False\n",
            "3     True\n",
            "4    False\n",
            "Name: cantidad, dtype: bool\n"
          ]
        }
      ]
    },
    {
      "cell_type": "markdown",
      "source": [
        "# CSV\n",
        "\n",
        "> Carga de datos\n",
        "\n"
      ],
      "metadata": {
        "id": "BKqzc9jTwHwg"
      }
    },
    {
      "cell_type": "code",
      "source": [
        "#cargar datos\n",
        "x=pd.read_csv('sample_data/mnist_test.csv')\n",
        "print(x)"
      ],
      "metadata": {
        "colab": {
          "base_uri": "https://localhost:8080/"
        },
        "id": "8LV1Ktl0wOWd",
        "outputId": "16190940-b34e-4054-cec0-fc7d1caf316e"
      },
      "execution_count": null,
      "outputs": [
        {
          "output_type": "stream",
          "name": "stdout",
          "text": [
            "      7  0  0.1  0.2  0.3  0.4  0.5  0.6  0.7  0.8  ...  0.658  0.659  0.660  \\\n",
            "0     2  0    0    0    0    0    0    0    0    0  ...      0      0      0   \n",
            "1     1  0    0    0    0    0    0    0    0    0  ...      0      0      0   \n",
            "2     0  0    0    0    0    0    0    0    0    0  ...      0      0      0   \n",
            "3     4  0    0    0    0    0    0    0    0    0  ...      0      0      0   \n",
            "4     1  0    0    0    0    0    0    0    0    0  ...      0      0      0   \n",
            "...  .. ..  ...  ...  ...  ...  ...  ...  ...  ...  ...    ...    ...    ...   \n",
            "9994  2  0    0    0    0    0    0    0    0    0  ...      0      0      0   \n",
            "9995  3  0    0    0    0    0    0    0    0    0  ...      0      0      0   \n",
            "9996  4  0    0    0    0    0    0    0    0    0  ...      0      0      0   \n",
            "9997  5  0    0    0    0    0    0    0    0    0  ...      0      0      0   \n",
            "9998  6  0    0    0    0    0    0    0    0    0  ...      0      0      0   \n",
            "\n",
            "      0.661  0.662  0.663  0.664  0.665  0.666  0.667  \n",
            "0         0      0      0      0      0      0      0  \n",
            "1         0      0      0      0      0      0      0  \n",
            "2         0      0      0      0      0      0      0  \n",
            "3         0      0      0      0      0      0      0  \n",
            "4         0      0      0      0      0      0      0  \n",
            "...     ...    ...    ...    ...    ...    ...    ...  \n",
            "9994      0      0      0      0      0      0      0  \n",
            "9995      0      0      0      0      0      0      0  \n",
            "9996      0      0      0      0      0      0      0  \n",
            "9997      0      0      0      0      0      0      0  \n",
            "9998      0      0      0      0      0      0      0  \n",
            "\n",
            "[9999 rows x 785 columns]\n"
          ]
        }
      ]
    },
    {
      "cell_type": "code",
      "source": [
        "df = pd.read_csv('sample_data/mnist_test.csv')\n",
        "print(df)\n",
        "print('####')\n",
        "print(df.head())#primeras 5 filas y todas las columnas\n",
        "print('####')\n",
        "print(df.head(2))#primeras 2 filas y todas las columnas\n",
        "print('####')\n",
        "print(df.tail())#ultimas 5 filas y todas las columnas\n",
        "print('####')\n",
        "print(df.tail(2))#ultimas 5 filas y todas las columnas"
      ],
      "metadata": {
        "colab": {
          "base_uri": "https://localhost:8080/"
        },
        "id": "Yi4219UQwpZV",
        "outputId": "4dca2e1d-26a8-4d50-cc98-c5135ed84770"
      },
      "execution_count": null,
      "outputs": [
        {
          "output_type": "stream",
          "name": "stdout",
          "text": [
            "      7  0  0.1  0.2  0.3  0.4  0.5  0.6  0.7  0.8  ...  0.658  0.659  0.660  \\\n",
            "0     2  0    0    0    0    0    0    0    0    0  ...      0      0      0   \n",
            "1     1  0    0    0    0    0    0    0    0    0  ...      0      0      0   \n",
            "2     0  0    0    0    0    0    0    0    0    0  ...      0      0      0   \n",
            "3     4  0    0    0    0    0    0    0    0    0  ...      0      0      0   \n",
            "4     1  0    0    0    0    0    0    0    0    0  ...      0      0      0   \n",
            "...  .. ..  ...  ...  ...  ...  ...  ...  ...  ...  ...    ...    ...    ...   \n",
            "9994  2  0    0    0    0    0    0    0    0    0  ...      0      0      0   \n",
            "9995  3  0    0    0    0    0    0    0    0    0  ...      0      0      0   \n",
            "9996  4  0    0    0    0    0    0    0    0    0  ...      0      0      0   \n",
            "9997  5  0    0    0    0    0    0    0    0    0  ...      0      0      0   \n",
            "9998  6  0    0    0    0    0    0    0    0    0  ...      0      0      0   \n",
            "\n",
            "      0.661  0.662  0.663  0.664  0.665  0.666  0.667  \n",
            "0         0      0      0      0      0      0      0  \n",
            "1         0      0      0      0      0      0      0  \n",
            "2         0      0      0      0      0      0      0  \n",
            "3         0      0      0      0      0      0      0  \n",
            "4         0      0      0      0      0      0      0  \n",
            "...     ...    ...    ...    ...    ...    ...    ...  \n",
            "9994      0      0      0      0      0      0      0  \n",
            "9995      0      0      0      0      0      0      0  \n",
            "9996      0      0      0      0      0      0      0  \n",
            "9997      0      0      0      0      0      0      0  \n",
            "9998      0      0      0      0      0      0      0  \n",
            "\n",
            "[9999 rows x 785 columns]\n",
            "####\n",
            "   7  0  0.1  0.2  0.3  0.4  0.5  0.6  0.7  0.8  ...  0.658  0.659  0.660  \\\n",
            "0  2  0    0    0    0    0    0    0    0    0  ...      0      0      0   \n",
            "1  1  0    0    0    0    0    0    0    0    0  ...      0      0      0   \n",
            "2  0  0    0    0    0    0    0    0    0    0  ...      0      0      0   \n",
            "3  4  0    0    0    0    0    0    0    0    0  ...      0      0      0   \n",
            "4  1  0    0    0    0    0    0    0    0    0  ...      0      0      0   \n",
            "\n",
            "   0.661  0.662  0.663  0.664  0.665  0.666  0.667  \n",
            "0      0      0      0      0      0      0      0  \n",
            "1      0      0      0      0      0      0      0  \n",
            "2      0      0      0      0      0      0      0  \n",
            "3      0      0      0      0      0      0      0  \n",
            "4      0      0      0      0      0      0      0  \n",
            "\n",
            "[5 rows x 785 columns]\n",
            "####\n",
            "   7  0  0.1  0.2  0.3  0.4  0.5  0.6  0.7  0.8  ...  0.658  0.659  0.660  \\\n",
            "0  2  0    0    0    0    0    0    0    0    0  ...      0      0      0   \n",
            "1  1  0    0    0    0    0    0    0    0    0  ...      0      0      0   \n",
            "\n",
            "   0.661  0.662  0.663  0.664  0.665  0.666  0.667  \n",
            "0      0      0      0      0      0      0      0  \n",
            "1      0      0      0      0      0      0      0  \n",
            "\n",
            "[2 rows x 785 columns]\n",
            "####\n",
            "      7  0  0.1  0.2  0.3  0.4  0.5  0.6  0.7  0.8  ...  0.658  0.659  0.660  \\\n",
            "9994  2  0    0    0    0    0    0    0    0    0  ...      0      0      0   \n",
            "9995  3  0    0    0    0    0    0    0    0    0  ...      0      0      0   \n",
            "9996  4  0    0    0    0    0    0    0    0    0  ...      0      0      0   \n",
            "9997  5  0    0    0    0    0    0    0    0    0  ...      0      0      0   \n",
            "9998  6  0    0    0    0    0    0    0    0    0  ...      0      0      0   \n",
            "\n",
            "      0.661  0.662  0.663  0.664  0.665  0.666  0.667  \n",
            "9994      0      0      0      0      0      0      0  \n",
            "9995      0      0      0      0      0      0      0  \n",
            "9996      0      0      0      0      0      0      0  \n",
            "9997      0      0      0      0      0      0      0  \n",
            "9998      0      0      0      0      0      0      0  \n",
            "\n",
            "[5 rows x 785 columns]\n",
            "####\n",
            "      7  0  0.1  0.2  0.3  0.4  0.5  0.6  0.7  0.8  ...  0.658  0.659  0.660  \\\n",
            "9997  5  0    0    0    0    0    0    0    0    0  ...      0      0      0   \n",
            "9998  6  0    0    0    0    0    0    0    0    0  ...      0      0      0   \n",
            "\n",
            "      0.661  0.662  0.663  0.664  0.665  0.666  0.667  \n",
            "9997      0      0      0      0      0      0      0  \n",
            "9998      0      0      0      0      0      0      0  \n",
            "\n",
            "[2 rows x 785 columns]\n"
          ]
        }
      ]
    },
    {
      "cell_type": "code",
      "source": [
        "import pandas as pd\n",
        "df = pd.read_csv('https://datahub.io/machine-learning/diabetes/r/diabetes.csv')\n",
        "print(df)"
      ],
      "metadata": {
        "colab": {
          "base_uri": "https://localhost:8080/"
        },
        "id": "ovTtFYsqyPyL",
        "outputId": "a89bf968-2c25-4579-dfc8-5eaa36a8938b"
      },
      "execution_count": null,
      "outputs": [
        {
          "output_type": "stream",
          "name": "stdout",
          "text": [
            "     preg  plas  pres  skin  insu  mass   pedi  age            class\n",
            "0       6   148    72    35     0  33.6  0.627   50  tested_positive\n",
            "1       1    85    66    29     0  26.6  0.351   31  tested_negative\n",
            "2       8   183    64     0     0  23.3  0.672   32  tested_positive\n",
            "3       1    89    66    23    94  28.1  0.167   21  tested_negative\n",
            "4       0   137    40    35   168  43.1  2.288   33  tested_positive\n",
            "..    ...   ...   ...   ...   ...   ...    ...  ...              ...\n",
            "763    10   101    76    48   180  32.9  0.171   63  tested_negative\n",
            "764     2   122    70    27     0  36.8  0.340   27  tested_negative\n",
            "765     5   121    72    23   112  26.2  0.245   30  tested_negative\n",
            "766     1   126    60     0     0  30.1  0.349   47  tested_positive\n",
            "767     1    93    70    31     0  30.4  0.315   23  tested_negative\n",
            "\n",
            "[768 rows x 9 columns]\n"
          ]
        }
      ]
    },
    {
      "cell_type": "code",
      "source": [
        "\n",
        "print(df['class'])"
      ],
      "metadata": {
        "colab": {
          "base_uri": "https://localhost:8080/"
        },
        "id": "U02RuN9dzqQG",
        "outputId": "72751e07-43cd-406a-bdbb-b8dda7f30c67"
      },
      "execution_count": null,
      "outputs": [
        {
          "output_type": "stream",
          "name": "stdout",
          "text": [
            "0      tested_positive\n",
            "1      tested_negative\n",
            "2      tested_positive\n",
            "3      tested_negative\n",
            "4      tested_positive\n",
            "            ...       \n",
            "763    tested_negative\n",
            "764    tested_negative\n",
            "765    tested_negative\n",
            "766    tested_positive\n",
            "767    tested_negative\n",
            "Name: class, Length: 768, dtype: object\n"
          ]
        }
      ]
    },
    {
      "cell_type": "code",
      "source": [
        "print(df.describe)"
      ],
      "metadata": {
        "colab": {
          "base_uri": "https://localhost:8080/"
        },
        "id": "owElPi040La2",
        "outputId": "965a011a-f66a-430e-9727-d2520d6316c0"
      },
      "execution_count": null,
      "outputs": [
        {
          "output_type": "stream",
          "name": "stdout",
          "text": [
            "<bound method NDFrame.describe of      preg  plas  pres  skin  insu  mass   pedi  age            class\n",
            "0       6   148    72    35     0  33.6  0.627   50  tested_positive\n",
            "1       1    85    66    29     0  26.6  0.351   31  tested_negative\n",
            "2       8   183    64     0     0  23.3  0.672   32  tested_positive\n",
            "3       1    89    66    23    94  28.1  0.167   21  tested_negative\n",
            "4       0   137    40    35   168  43.1  2.288   33  tested_positive\n",
            "..    ...   ...   ...   ...   ...   ...    ...  ...              ...\n",
            "763    10   101    76    48   180  32.9  0.171   63  tested_negative\n",
            "764     2   122    70    27     0  36.8  0.340   27  tested_negative\n",
            "765     5   121    72    23   112  26.2  0.245   30  tested_negative\n",
            "766     1   126    60     0     0  30.1  0.349   47  tested_positive\n",
            "767     1    93    70    31     0  30.4  0.315   23  tested_negative\n",
            "\n",
            "[768 rows x 9 columns]>\n"
          ]
        }
      ]
    },
    {
      "cell_type": "code",
      "source": [
        "#cargar excel\n",
        "df=pd.read_excel('nombre excel')\n",
        "print(df)"
      ],
      "metadata": {
        "id": "CkCXHvct2QKU"
      },
      "execution_count": null,
      "outputs": []
    },
    {
      "cell_type": "code",
      "source": [
        "#filtrar datos\n",
        "print(df[df['nota']<3.0][['nombre','apellido']])"
      ],
      "metadata": {
        "id": "hZkwXe7N2pzW"
      },
      "execution_count": null,
      "outputs": []
    },
    {
      "cell_type": "code",
      "source": [
        "#contar datos\n",
        "print(df['apellido'].value_counts())"
      ],
      "metadata": {
        "id": "UBel5CRF3BGk"
      },
      "execution_count": null,
      "outputs": []
    },
    {
      "cell_type": "code",
      "source": [
        "#promedio\n",
        "promedio=df['calificacion'].mean()\n",
        "print(promedio)"
      ],
      "metadata": {
        "id": "kAc_zF1k3af-"
      },
      "execution_count": null,
      "outputs": []
    }
  ]
}